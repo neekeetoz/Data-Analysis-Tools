{
 "cells": [
  {
   "cell_type": "markdown",
   "id": "b949f636",
   "metadata": {},
   "source": [
    "# Лабораторная работа 3\n",
    "\n",
    "## Клепиков Никита\n",
    "\n",
    "Dataset: Students Performance in Exams\n",
    "\n",
    "Ссылка на датасет: https://www.kaggle.com/spscientist/students-performance-in-exams\n",
    "\n",
    "Группа: 6132 - 010402D"
   ]
  },
  {
   "cell_type": "markdown",
   "id": "7e366e70",
   "metadata": {},
   "source": [
    "Для начала необходимо подключить необходимые для выполнения лабораторной работы библиотеки"
   ]
  },
  {
   "cell_type": "code",
   "execution_count": 1,
   "id": "adf1d19f",
   "metadata": {},
   "outputs": [],
   "source": [
    "import pandas as pd\n",
    "import seaborn as sns\n",
    "import matplotlib.pyplot as plt\n",
    "from sklearn.tree import DecisionTreeRegressor, DecisionTreeClassifier\n",
    "from sklearn.metrics import recall_score, precision_score, f1_score, classification_report, accuracy_score, plot_confusion_matrix, confusion_matrix\n",
    "from sklearn.model_selection import cross_val_score, train_test_split\n",
    "from sklearn.datasets import make_classification\n",
    "from sklearn import tree\n",
    "from sklearn.linear_model import LogisticRegression\n",
    "from sklearn.pipeline import make_pipeline\n",
    "from sklearn.preprocessing import MinMaxScaler\n",
    "import warnings\n",
    "warnings.filterwarnings(\"ignore\")"
   ]
  },
  {
   "cell_type": "markdown",
   "id": "02e36701",
   "metadata": {},
   "source": [
    "1 Выберите наборы данных, подходящие для многоклассовой и бинарной классификации. Опишите данные, что обозначает каждый столбец, какого типа (категориальный, вещественный, целочисленный, бинарный) данный столбец, при необходимости для категориальных в том числе бинарных признаков привести расшифровку их значений. В общем, проведите \"визуальный\" анализ ваших данных."
   ]
  },
  {
   "cell_type": "code",
   "execution_count": 2,
   "id": "786c6fde",
   "metadata": {},
   "outputs": [],
   "source": [
    "students = pd.read_csv('Students.csv')"
   ]
  },
  {
   "cell_type": "markdown",
   "id": "33e425ee",
   "metadata": {},
   "source": [
    "* gender - пол (бинарный)\n",
    "        male - мужской\n",
    "        female - женский\n",
    "* race/ethnicity - раса/этническая принадлежность (категориальный)\n",
    "        group A\n",
    "        group B\n",
    "        group C\n",
    "        group D\n",
    "        group E\n",
    "\n",
    "* parental level of education - уровень образования родителей (категориальный)\n",
    "        bachelor's degree - степень бакалавра\n",
    "        some college - несколько колледжей\n",
    "        master's degree - степень магистра\n",
    "        associate's degree - степень младшего специалиста\n",
    "        high school - средняя школа\n",
    "        some high school - несколько средних школ\n",
    "* lunch - обед (бинарный)\n",
    "        standard - стандартный\n",
    "        free/reduced - бесплатный/льготный\n",
    "* test preparation course - курс подготовки к экзаменам (бинарный)\n",
    "        completed - пройден\n",
    "        none - не пройден\n",
    "* math score - баллы по математике (числовой)\n",
    "\n",
    "* reading score - баллы по чтению (числовой)\n",
    "\n",
    "* writing score - баллы по письменному экзамену (числовой)\n",
    "\n",
    "* sum - сумма баллов (числовой)\n",
    "\n",
    "* status - статус (бинарный)\n",
    "        clever - умный\n",
    "        beautiful - красивый\n",
    "* gpa - средний балл (числовой)"
   ]
  },
  {
   "cell_type": "markdown",
   "id": "a4ce925c",
   "metadata": {},
   "source": [
    "1. Многоклассовая классификация:\n",
    "\n",
    "1.1 На любом датасете продемонстрировать многоклассовую классификацию с помощью ЛЮБОГО алгоритма. Оценить accuracy."
   ]
  },
  {
   "cell_type": "code",
   "execution_count": 3,
   "id": "111713d4",
   "metadata": {},
   "outputs": [
    {
     "data": {
      "text/plain": [
       "gender                         object\n",
       "race/ethnicity                 object\n",
       "parental level of education    object\n",
       "lunch                          object\n",
       "test preparation course        object\n",
       "math score                      int64\n",
       "reading score                   int64\n",
       "writing score                   int64\n",
       "dtype: object"
      ]
     },
     "execution_count": 3,
     "metadata": {},
     "output_type": "execute_result"
    }
   ],
   "source": [
    "students.dtypes"
   ]
  },
  {
   "cell_type": "code",
   "execution_count": 4,
   "id": "a65041a2",
   "metadata": {},
   "outputs": [],
   "source": [
    "# Из train-test формируем X_train, X_test\n",
    "X_train = pd.DataFrame()\n",
    "X_train['reading score'] = students['reading score']  \n",
    "X_test = pd.DataFrame()\n",
    "X_test['writing score'] = students['writing score']  \n",
    "\n",
    "# \"y\" оставляем прежним\n",
    "y_train = students['math score']\n",
    "y_test = students['math score']\n",
    "\n",
    "# Создаем модель и обучаем ее\n",
    "model = DecisionTreeClassifier() \n",
    "model.fit(X_train, y_train)\n",
    "\n",
    "# Делаем прогноз\n",
    "pred_train = model.predict(X_train)\n",
    "pred_test = model.predict(X_test)"
   ]
  },
  {
   "cell_type": "code",
   "execution_count": 5,
   "id": "466f729b",
   "metadata": {},
   "outputs": [
    {
     "data": {
      "text/plain": [
       "0.053"
      ]
     },
     "execution_count": 5,
     "metadata": {},
     "output_type": "execute_result"
    }
   ],
   "source": [
    "model.score(X_test, y_test)"
   ]
  },
  {
   "cell_type": "markdown",
   "id": "9590a362",
   "metadata": {},
   "source": [
    "1.2. То же самое с использованием кросс-валидации"
   ]
  },
  {
   "cell_type": "code",
   "execution_count": 6,
   "id": "8a0bf53d",
   "metadata": {},
   "outputs": [
    {
     "data": {
      "text/plain": [
       "0.033000065934197666"
      ]
     },
     "execution_count": 6,
     "metadata": {},
     "output_type": "execute_result"
    }
   ],
   "source": [
    "scores = cross_val_score(model, X_test, y_test, cv=3)\n",
    "scores.mean()"
   ]
  },
  {
   "cell_type": "markdown",
   "id": "69634f0e",
   "metadata": {},
   "source": [
    "1.3. Поиграться с гиперпараметром, связанным со сложностью модели (в случае kNN — k_neighbours) и построить график accuracy для train set и test_set для разных значений гиперпараметра (в лекции есть пример построения подобного графика для kNN и датасета cancer, но можно строить как угодно такой график)"
   ]
  },
  {
   "cell_type": "code",
   "execution_count": 7,
   "id": "789dff82",
   "metadata": {},
   "outputs": [],
   "source": [
    "scores_data = pd.DataFrame()"
   ]
  },
  {
   "cell_type": "code",
   "execution_count": 8,
   "id": "014d98ce",
   "metadata": {},
   "outputs": [],
   "source": [
    "max_depth_values = range(1,100)"
   ]
  },
  {
   "cell_type": "code",
   "execution_count": 9,
   "id": "90d980f7",
   "metadata": {},
   "outputs": [
    {
     "data": {
      "text/plain": [
       "<AxesSubplot:xlabel='max_depth'>"
      ]
     },
     "execution_count": 9,
     "metadata": {},
     "output_type": "execute_result"
    },
    {
     "data": {
      "image/png": "[encoded data removed]",
      "text/plain": [
       "<Figure size 432x288 with 1 Axes>"
      ]
     },
     "metadata": {
      "needs_background": "light"
     },
     "output_type": "display_data"
    }
   ],
   "source": [
    "for max_depth in max_depth_values:\n",
    "    clf = tree.DecisionTreeClassifier(criterion='entropy', max_depth=max_depth)\n",
    "    clf.fit(X_train,y_train)\n",
    "    \n",
    "    mean_cross_val_score = cross_val_score(clf, X_train, y_train, cv=5).mean()\n",
    "    \n",
    "    temp_scores_data = pd.DataFrame({'max_depth':[max_depth],\n",
    "                                    'mean_cross_val_score':[mean_cross_val_score]})\n",
    "    scores_data = scores_data.append(temp_scores_data)\n",
    "    \n",
    "scores_data.plot.line(x=\"max_depth\", y=\"mean_cross_val_score\")"
   ]
  },
  {
   "cell_type": "markdown",
   "id": "0634736a",
   "metadata": {},
   "source": [
    "1.4. Построить confusion matrix (это вроде матрицы TN / TP/ FN/ FP, только расширенной для многоклассовой классификации, чтобы понять в какие стороны чаще ошибается классификатор)"
   ]
  },
  {
   "cell_type": "code",
   "execution_count": 10,
   "id": "f41d1189",
   "metadata": {},
   "outputs": [
    {
     "data": {
      "image/png": "[encoded data removed]",
      "text/plain": [
       "<Figure size 1080x1080 with 2 Axes>"
      ]
     },
     "metadata": {},
     "output_type": "display_data"
    }
   ],
   "source": [
    "sns.set(rc={'figure.figsize':(15,15)}) # задаем настройки размера изображений\n",
    "X = students[[\"math score\",\"reading score\",\"writing score\"]]\n",
    "y = students[\"parental level of education\"]\n",
    "X_train, X_test, y_train, y_test = train_test_split(X, y, test_size=0.33, random_state=0)\n",
    "clf = tree.DecisionTreeClassifier(criterion='entropy', max_depth=max_depth)\n",
    "clf.fit(X_train, y_train)\n",
    "plot_confusion_matrix(clf, X_test, y_test) \n",
    "plt.show()"
   ]
  },
  {
   "cell_type": "code",
   "execution_count": 11,
   "id": "4a222c93",
   "metadata": {},
   "outputs": [
    {
     "data": {
      "text/plain": [
       "<AxesSubplot:>"
      ]
     },
     "execution_count": 11,
     "metadata": {},
     "output_type": "execute_result"
    },
    {
     "data": {
      "image/png": "[encoded data removed]",
      "text/plain": [
       "<Figure size 1080x1080 with 2 Axes>"
      ]
     },
     "metadata": {},
     "output_type": "display_data"
    }
   ],
   "source": [
    "y_pred = clf.predict(X_test)\n",
    "conf_matrix = confusion_matrix(y_test, y_pred)\n",
    "sns.heatmap(conf_matrix, annot = True)"
   ]
  },
  {
   "cell_type": "markdown",
   "id": "9f412fa4",
   "metadata": {},
   "source": [
    "2. Бинарная классификация.\n",
    "\n",
    "На любом (но уже другом, бинарном) датасете продемонстрировать бинарную классификацию (можно использовать любой алгоритм), посчитать метрики: accuracy, precision, recall, f-measure, а также составить classification_report\n",
    "\n"
   ]
  },
  {
   "cell_type": "code",
   "execution_count": 12,
   "id": "1e1fd8aa",
   "metadata": {},
   "outputs": [],
   "source": [
    "students_new = pd.get_dummies(students)"
   ]
  },
  {
   "cell_type": "code",
   "execution_count": 13,
   "id": "f0be5a2e",
   "metadata": {},
   "outputs": [],
   "source": [
    "X = students_new[[\"math score\",\"reading score\",\"writing score\"]]\n",
    "y = students_new.gender_female"
   ]
  },
  {
   "cell_type": "code",
   "execution_count": 14,
   "id": "9d133e77",
   "metadata": {},
   "outputs": [],
   "source": [
    "X_train, X_test, y_train, y_test = train_test_split(X, y, test_size=0.33, random_state=0)"
   ]
  },
  {
   "cell_type": "code",
   "execution_count": 15,
   "id": "ff0c5292",
   "metadata": {},
   "outputs": [],
   "source": [
    "clf = DecisionTreeClassifier()\n",
    "clf.fit(X_train, y_train)\n",
    "y_pred = clf.predict(X_test)"
   ]
  },
  {
   "cell_type": "code",
   "execution_count": 16,
   "id": "35054c18",
   "metadata": {},
   "outputs": [
    {
     "name": "stdout",
     "output_type": "stream",
     "text": [
      "Accuracy: 0.8090909090909091\n",
      "Precision: 0.8044692737430168\n",
      "Recall: 0.8372093023255814\n",
      "F1-score: 0.8205128205128205\n",
      "Classification report:\n",
      "              precision    recall  f1-score   support\n",
      "\n",
      "           0       0.81      0.78      0.80       158\n",
      "           1       0.80      0.84      0.82       172\n",
      "\n",
      "    accuracy                           0.81       330\n",
      "   macro avg       0.81      0.81      0.81       330\n",
      "weighted avg       0.81      0.81      0.81       330\n",
      "\n"
     ]
    }
   ],
   "source": [
    "print(f\"Accuracy: {accuracy_score(y_test, y_pred)}\")\n",
    "print(f\"Precision: {precision_score(y_test, y_pred)}\")\n",
    "print(f\"Recall: {recall_score(y_test, y_pred)}\")\n",
    "print(f\"F1-score: {f1_score(y_test, y_pred)}\")\n",
    "print(f\"Classification report:\\n{classification_report(y_test, y_pred)}\")"
   ]
  },
  {
   "cell_type": "markdown",
   "id": "0605a0d4",
   "metadata": {},
   "source": [
    "3. Использование нормализации признаков В обоих задачах (бинарной и многоклассовой классификации) попробовать также вариант с предварительной нормализацией признаков (StandardScalerили MinMaxScaler). Оценить метрики качества в случае с нормализованными признаками и ненормализованными."
   ]
  },
  {
   "cell_type": "code",
   "execution_count": 17,
   "id": "15232338",
   "metadata": {},
   "outputs": [
    {
     "data": {
      "text/plain": [
       "Pipeline(steps=[('minmaxscaler', MinMaxScaler()),\n",
       "                ('logisticregression', LogisticRegression())])"
      ]
     },
     "execution_count": 17,
     "metadata": {},
     "output_type": "execute_result"
    }
   ],
   "source": [
    "X, y = make_classification(random_state=42)\n",
    "X_train, X_test, y_train, y_test = train_test_split(X, y, random_state=42)\n",
    "pipe = make_pipeline(MinMaxScaler(), LogisticRegression())\n",
    "pipe.fit(X_train, y_train)  # применить масштабирование к обучающим данным"
   ]
  },
  {
   "cell_type": "code",
   "execution_count": 18,
   "id": "1e3329c9",
   "metadata": {},
   "outputs": [
    {
     "data": {
      "text/plain": [
       "0.92"
      ]
     },
     "execution_count": 18,
     "metadata": {},
     "output_type": "execute_result"
    }
   ],
   "source": [
    "pipe.score(X_test, y_test)  # применять масштабирование к тестовым данным без утечки обучающих данных."
   ]
  }
 ],
 "metadata": {
  "kernelspec": {
   "display_name": "Python 3",
   "language": "python",
   "name": "python3"
  },
  "language_info": {
   "codemirror_mode": {
    "name": "ipython",
    "version": 3
   },
   "file_extension": ".py",
   "mimetype": "text/x-python",
   "name": "python",
   "nbconvert_exporter": "python",
   "pygments_lexer": "ipython3",
   "version": "3.8.8"
  }
 },
 "nbformat": 4,
 "nbformat_minor": 5
}
