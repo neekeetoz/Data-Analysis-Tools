{
 "cells": [
  {
   "cell_type": "markdown",
   "id": "c86da199",
   "metadata": {},
   "source": [
    "# Лабораторная работа 5\n",
    "\n",
    "## Клепиков Никита\n",
    "\n",
    "Dataset: Students Performance in Exams\n",
    "\n",
    "Ссылка на датасет: https://www.kaggle.com/spscientist/students-performance-in-exams\n",
    "\n",
    "Группа: 6132 - 010402D"
   ]
  },
  {
   "cell_type": "markdown",
   "id": "4cec994e",
   "metadata": {},
   "source": [
    "Для начала необходимо подключить необходимые для выполнения лабораторной работы библиотеки"
   ]
  },
  {
   "cell_type": "code",
   "execution_count": 1,
   "id": "f5c44cd6",
   "metadata": {},
   "outputs": [],
   "source": [
    "import pandas as pd\n",
    "from catboost import CatBoostRegressor, CatBoostClassifier\n",
    "from sklearn.model_selection import train_test_split\n",
    "import numpy as np\n",
    "from catboost import *\n",
    "from catboost.datasets import amazon\n",
    "from sklearn.metrics import accuracy_score, PrecisionRecallDisplay, mean_absolute_error, mean_squared_error\n",
    "from sklearn.metrics import plot_roc_curve, roc_auc_score, accuracy_score, recall_score, precision_score\n",
    "from warnings import filterwarnings\n",
    "import sklearn.metrics\n",
    "filterwarnings(\"ignore\")"
   ]
  },
  {
   "cell_type": "markdown",
   "id": "5208dd63",
   "metadata": {},
   "source": [
    "0 Подобрать набор данных для классификации (количество классов не имеет значения) и регрессии. Важно наличие числовых и категориальных признаков в данных. Опишите данные, что обозначает каждый столбец, какого типа (категориальный, вещественный, целочисленный, бинарный) данный столбец, при необходимости для категориальных в том числе бинарных признаков привести расшифровку их значений. Можно работать на тех же данных, что и в предыдущей Л.Р.: в этом случае сравнить с результатами лучшего классификатора из предыдущей работы."
   ]
  },
  {
   "cell_type": "code",
   "execution_count": 2,
   "id": "1170a2e8",
   "metadata": {},
   "outputs": [
    {
     "data": {
      "text/html": [
       "<div>\n",
       "<style scoped>\n",
       "    .dataframe tbody tr th:only-of-type {\n",
       "        vertical-align: middle;\n",
       "    }\n",
       "\n",
       "    .dataframe tbody tr th {\n",
       "        vertical-align: top;\n",
       "    }\n",
       "\n",
       "    .dataframe thead th {\n",
       "        text-align: right;\n",
       "    }\n",
       "</style>\n",
       "<table border=\"1\" class=\"dataframe\">\n",
       "  <thead>\n",
       "    <tr style=\"text-align: right;\">\n",
       "      <th></th>\n",
       "      <th>gender</th>\n",
       "      <th>race/ethnicity</th>\n",
       "      <th>parental level of education</th>\n",
       "      <th>lunch</th>\n",
       "      <th>test preparation course</th>\n",
       "      <th>math score</th>\n",
       "      <th>reading score</th>\n",
       "      <th>writing score</th>\n",
       "    </tr>\n",
       "  </thead>\n",
       "  <tbody>\n",
       "    <tr>\n",
       "      <th>0</th>\n",
       "      <td>female</td>\n",
       "      <td>group B</td>\n",
       "      <td>bachelor's degree</td>\n",
       "      <td>standard</td>\n",
       "      <td>none</td>\n",
       "      <td>72</td>\n",
       "      <td>72</td>\n",
       "      <td>74</td>\n",
       "    </tr>\n",
       "    <tr>\n",
       "      <th>1</th>\n",
       "      <td>female</td>\n",
       "      <td>group C</td>\n",
       "      <td>some college</td>\n",
       "      <td>standard</td>\n",
       "      <td>completed</td>\n",
       "      <td>69</td>\n",
       "      <td>90</td>\n",
       "      <td>88</td>\n",
       "    </tr>\n",
       "    <tr>\n",
       "      <th>2</th>\n",
       "      <td>female</td>\n",
       "      <td>group B</td>\n",
       "      <td>master's degree</td>\n",
       "      <td>standard</td>\n",
       "      <td>none</td>\n",
       "      <td>90</td>\n",
       "      <td>95</td>\n",
       "      <td>93</td>\n",
       "    </tr>\n",
       "    <tr>\n",
       "      <th>3</th>\n",
       "      <td>male</td>\n",
       "      <td>group A</td>\n",
       "      <td>associate's degree</td>\n",
       "      <td>free/reduced</td>\n",
       "      <td>none</td>\n",
       "      <td>47</td>\n",
       "      <td>57</td>\n",
       "      <td>44</td>\n",
       "    </tr>\n",
       "    <tr>\n",
       "      <th>4</th>\n",
       "      <td>male</td>\n",
       "      <td>group C</td>\n",
       "      <td>some college</td>\n",
       "      <td>standard</td>\n",
       "      <td>none</td>\n",
       "      <td>76</td>\n",
       "      <td>78</td>\n",
       "      <td>75</td>\n",
       "    </tr>\n",
       "    <tr>\n",
       "      <th>...</th>\n",
       "      <td>...</td>\n",
       "      <td>...</td>\n",
       "      <td>...</td>\n",
       "      <td>...</td>\n",
       "      <td>...</td>\n",
       "      <td>...</td>\n",
       "      <td>...</td>\n",
       "      <td>...</td>\n",
       "    </tr>\n",
       "    <tr>\n",
       "      <th>995</th>\n",
       "      <td>female</td>\n",
       "      <td>group E</td>\n",
       "      <td>master's degree</td>\n",
       "      <td>standard</td>\n",
       "      <td>completed</td>\n",
       "      <td>88</td>\n",
       "      <td>99</td>\n",
       "      <td>95</td>\n",
       "    </tr>\n",
       "    <tr>\n",
       "      <th>996</th>\n",
       "      <td>male</td>\n",
       "      <td>group C</td>\n",
       "      <td>high school</td>\n",
       "      <td>free/reduced</td>\n",
       "      <td>none</td>\n",
       "      <td>62</td>\n",
       "      <td>55</td>\n",
       "      <td>55</td>\n",
       "    </tr>\n",
       "    <tr>\n",
       "      <th>997</th>\n",
       "      <td>female</td>\n",
       "      <td>group C</td>\n",
       "      <td>high school</td>\n",
       "      <td>free/reduced</td>\n",
       "      <td>completed</td>\n",
       "      <td>59</td>\n",
       "      <td>71</td>\n",
       "      <td>65</td>\n",
       "    </tr>\n",
       "    <tr>\n",
       "      <th>998</th>\n",
       "      <td>female</td>\n",
       "      <td>group D</td>\n",
       "      <td>some college</td>\n",
       "      <td>standard</td>\n",
       "      <td>completed</td>\n",
       "      <td>68</td>\n",
       "      <td>78</td>\n",
       "      <td>77</td>\n",
       "    </tr>\n",
       "    <tr>\n",
       "      <th>999</th>\n",
       "      <td>female</td>\n",
       "      <td>group D</td>\n",
       "      <td>some college</td>\n",
       "      <td>free/reduced</td>\n",
       "      <td>none</td>\n",
       "      <td>77</td>\n",
       "      <td>86</td>\n",
       "      <td>86</td>\n",
       "    </tr>\n",
       "  </tbody>\n",
       "</table>\n",
       "<p>1000 rows × 8 columns</p>\n",
       "</div>"
      ],
      "text/plain": [
       "     gender race/ethnicity parental level of education         lunch  \\\n",
       "0    female        group B           bachelor's degree      standard   \n",
       "1    female        group C                some college      standard   \n",
       "2    female        group B             master's degree      standard   \n",
       "3      male        group A          associate's degree  free/reduced   \n",
       "4      male        group C                some college      standard   \n",
       "..      ...            ...                         ...           ...   \n",
       "995  female        group E             master's degree      standard   \n",
       "996    male        group C                 high school  free/reduced   \n",
       "997  female        group C                 high school  free/reduced   \n",
       "998  female        group D                some college      standard   \n",
       "999  female        group D                some college  free/reduced   \n",
       "\n",
       "    test preparation course  math score  reading score  writing score  \n",
       "0                      none          72             72             74  \n",
       "1                 completed          69             90             88  \n",
       "2                      none          90             95             93  \n",
       "3                      none          47             57             44  \n",
       "4                      none          76             78             75  \n",
       "..                      ...         ...            ...            ...  \n",
       "995               completed          88             99             95  \n",
       "996                    none          62             55             55  \n",
       "997               completed          59             71             65  \n",
       "998               completed          68             78             77  \n",
       "999                    none          77             86             86  \n",
       "\n",
       "[1000 rows x 8 columns]"
      ]
     },
     "execution_count": 2,
     "metadata": {},
     "output_type": "execute_result"
    }
   ],
   "source": [
    "students = pd.read_csv('Students.csv')\n",
    "students"
   ]
  },
  {
   "cell_type": "markdown",
   "id": "66c741dc",
   "metadata": {},
   "source": [
    "* gender - пол (бинарный)\n",
    "        male - мужской\n",
    "        female - женский\n",
    "* race/ethnicity - раса/этническая принадлежность (категориальный)\n",
    "        group A\n",
    "        group B\n",
    "        group C\n",
    "        group D\n",
    "        group E\n",
    "\n",
    "* parental level of education - уровень образования родителей (категориальный)\n",
    "        bachelor's degree - степень бакалавра\n",
    "        some college - несколько колледжей\n",
    "        master's degree - степень магистра\n",
    "        associate's degree - степень младшего специалиста\n",
    "        high school - средняя школа\n",
    "        some high school - несколько средних школ\n",
    "* lunch - обед (бинарный)\n",
    "        standard - стандартный\n",
    "        free/reduced - бесплатный/льготный\n",
    "* test preparation course - курс подготовки к экзаменам (бинарный)\n",
    "        completed - пройден\n",
    "        none - не пройден\n",
    "* math score - баллы по математике (числовой)\n",
    "\n",
    "* reading score - баллы по чтению (числовой)\n",
    "\n",
    "* writing score - баллы по письменному экзамену (числовой)\n",
    "\n",
    "* sum - сумма баллов (числовой)\n",
    "\n",
    "* status - статус (бинарный)\n",
    "        clever - умный\n",
    "        beautiful - красивый\n",
    "* gpa - средний балл (числовой)"
   ]
  },
  {
   "cell_type": "code",
   "execution_count": 3,
   "id": "d4facb8b",
   "metadata": {},
   "outputs": [],
   "source": [
    "students[\"gender\"], _ = pd.factorize(students[\"gender\"])\n",
    "students[\"test preparation course\"], _ = pd.factorize(students[\"test preparation course\"])\n",
    "students[\"race/ethnicity\"], _ = pd.factorize(students[\"race/ethnicity\"])\n",
    "students[\"parental level of education\"], _ = pd.factorize(students[\"parental level of education\"])\n",
    "students[\"lunch\"], _ = pd.factorize(students[\"lunch\"])"
   ]
  },
  {
   "cell_type": "markdown",
   "id": "83b36737",
   "metadata": {},
   "source": [
    "1 Применить классификатор CatBoostClassifier к вашему набору данных. Обратите внимание, что catboost умеет работать с категориальными признаками (параметр cat_features - список индексов категориальных признаков), поэтому использование pd.factorize / pd.get_dummies здесь лишнее.\n",
    "\n",
    "* Вывести итерацию с наилучшим значением AUC (для бинарной классификации) или наилучшим значением Logloss.\n",
    "* Вывести значения метрик качества классификации на тестовых данных (accuracy и precision / recall / AUC, если применимо).\n",
    "* В случае бинарной классификации на основе CatBoostClassifier построить кривые PRC и ROC. Вычислить значения PRC-AUC и ROC-AUC."
   ]
  },
  {
   "cell_type": "code",
   "execution_count": 4,
   "id": "f5f5d5f5",
   "metadata": {},
   "outputs": [
    {
     "data": {
      "text/plain": [
       "((1000, 7), (1000,))"
      ]
     },
     "execution_count": 4,
     "metadata": {},
     "output_type": "execute_result"
    }
   ],
   "source": [
    "labels = students['gender']\n",
    "students.drop(columns='gender', axis=1, inplace=True)\n",
    "students.shape, labels.shape"
   ]
  },
  {
   "cell_type": "code",
   "execution_count": 5,
   "id": "5140e4e5",
   "metadata": {},
   "outputs": [],
   "source": [
    "features = ['race/ethnicity', 'parental level of education']"
   ]
  },
  {
   "cell_type": "code",
   "execution_count": 6,
   "id": "09a73209",
   "metadata": {},
   "outputs": [
    {
     "data": {
      "application/vnd.jupyter.widget-view+json": {
       "model_id": "0268c0c6c2434d5ab7c7646a3900e212",
       "version_major": 2,
       "version_minor": 0
      },
      "text/plain": [
       "MetricVisualizer(layout=Layout(align_self='stretch', height='500px'))"
      ]
     },
     "metadata": {},
     "output_type": "display_data"
    },
    {
     "data": {
      "text/plain": [
       "<catboost.core.CatBoostClassifier at 0x2424178eac0>"
      ]
     },
     "execution_count": 6,
     "metadata": {},
     "output_type": "execute_result"
    }
   ],
   "source": [
    "X_train, X_test, y_train, y_test = train_test_split(students, labels, test_size=0.3, random_state=0)\n",
    "\n",
    "model = CatBoostClassifier(\n",
    "    iterations=100,\n",
    "    loss_function='Logloss'\n",
    ")\n",
    "model.fit(\n",
    "    X_train, y_train,\n",
    "    cat_features=features,\n",
    "    eval_set=(X_test, y_test),\n",
    "    verbose = False,\n",
    "    plot=True\n",
    ")"
   ]
  },
  {
   "cell_type": "code",
   "execution_count": 7,
   "id": "77f3f2ff",
   "metadata": {},
   "outputs": [
    {
     "name": "stdout",
     "output_type": "stream",
     "text": [
      "Model is fitted: True\n",
      "Model params: {'iterations': 100, 'loss_function': 'Logloss'}\n",
      "Best iteration: 99\n",
      "Best score: {'learn': {'Logloss': 0.2961444344744521}, 'validation': {'Logloss': 0.32105701967127426}}\n",
      "Accuracy: 0.88\n",
      "AUC: 0.8785879835977892\n",
      "Precision: 0.8897058823529411\n",
      "Recall: 0.852112676056338\n"
     ]
    }
   ],
   "source": [
    "print(f\"Model is fitted: {model.is_fitted()}\")\n",
    "print(f\"Model params: {model.get_params()}\")\n",
    "print(f\"Best iteration: {model.get_best_iteration()}\")\n",
    "print(f\"Best score: {model.best_score_}\")\n",
    "print(f\"Accuracy: {accuracy_score(y_test, model.predict(X_test))}\")\n",
    "print(f\"AUC: {roc_auc_score(y_test, model.predict(X_test))}\")\n",
    "print(f\"Precision: {precision_score(y_test, model.predict(X_test))}\")\n",
    "print(f\"Recall: {recall_score(y_test, model.predict(X_test))}\")"
   ]
  },
  {
   "cell_type": "code",
   "execution_count": 8,
   "id": "ab81ca63",
   "metadata": {},
   "outputs": [
    {
     "data": {
      "text/plain": [
       "<sklearn.metrics._plot.roc_curve.RocCurveDisplay at 0x2424178e640>"
      ]
     },
     "execution_count": 8,
     "metadata": {},
     "output_type": "execute_result"
    },
    {
     "data": {
      "image/png": "[encoded data removed]",
      "text/plain": [
       "<Figure size 432x288 with 1 Axes>"
      ]
     },
     "metadata": {
      "needs_background": "light"
     },
     "output_type": "display_data"
    }
   ],
   "source": [
    "plot_roc_curve(model, X_test, y_test)"
   ]
  },
  {
   "cell_type": "code",
   "execution_count": 9,
   "id": "fef83cf6",
   "metadata": {},
   "outputs": [
    {
     "data": {
      "text/plain": [
       "<sklearn.metrics._plot.precision_recall_curve.PrecisionRecallDisplay at 0x24242a24f40>"
      ]
     },
     "execution_count": 9,
     "metadata": {},
     "output_type": "execute_result"
    },
    {
     "data": {
      "image/png": "[encoded data removed]",
      "text/plain": [
       "<Figure size 432x288 with 1 Axes>"
      ]
     },
     "metadata": {
      "needs_background": "light"
     },
     "output_type": "display_data"
    }
   ],
   "source": [
    "sklearn.metrics.plot_precision_recall_curve(model, X_test, y_test, name=\"CatBoostClassifier\")"
   ]
  },
  {
   "cell_type": "markdown",
   "id": "2418d25a",
   "metadata": {},
   "source": [
    "2 Применить регрессию CatBoostRegressor к набору данных для регрессии. Вывести номер итерации и значения метрик (MAE и MSE) для наилучшей итерации. Обратите внимание, что в задаче восстановления регрессии целевая переменная имеет непрерывные значения."
   ]
  },
  {
   "cell_type": "code",
   "execution_count": 10,
   "id": "b83cf390",
   "metadata": {},
   "outputs": [
    {
     "data": {
      "application/vnd.jupyter.widget-view+json": {
       "model_id": "62231d34b6bb4ba49f6d91ef5644e9b8",
       "version_major": 2,
       "version_minor": 0
      },
      "text/plain": [
       "MetricVisualizer(layout=Layout(align_self='stretch', height='500px'))"
      ]
     },
     "metadata": {},
     "output_type": "display_data"
    },
    {
     "data": {
      "text/plain": [
       "<catboost.core.CatBoostRegressor at 0x24242b1cee0>"
      ]
     },
     "execution_count": 10,
     "metadata": {},
     "output_type": "execute_result"
    }
   ],
   "source": [
    "model_regressor = CatBoostRegressor(\n",
    "    custom_metric=[\"MAE\", \"RMSE\"], \n",
    "    cat_features=features\n",
    ")\n",
    "\n",
    "model_regressor.fit(\n",
    "    X_train, y_train,\n",
    "    eval_set=(X_test, y_test),\n",
    "    verbose=False,\n",
    "    plot=True\n",
    ")"
   ]
  },
  {
   "cell_type": "code",
   "execution_count": 11,
   "id": "fd80d61a",
   "metadata": {},
   "outputs": [
    {
     "name": "stdout",
     "output_type": "stream",
     "text": [
      "Best iteration: 783\n",
      "Best score: {'learn': {'MAE': 0.10475601642585274, 'RMSE': 0.14215737225304728}, 'validation': {'MAE': 0.2138945149274954, 'RMSE': 0.29053692625062244}}\n",
      "Model params: {'loss_function': 'RMSE', 'custom_metric': ['MAE', 'RMSE'], 'cat_features': ['race/ethnicity', 'parental level of education']}\n",
      "MAE: 0.2144933214920198\n",
      "MSE: 0.08441170551515968\n"
     ]
    }
   ],
   "source": [
    "print(f\"Best iteration: {model_regressor.get_best_iteration()}\")\n",
    "print(f\"Best score: {model_regressor.get_best_score()}\")\n",
    "print(f\"Model params: {model_regressor.get_params()}\")\n",
    "print(f\"MAE: {mean_absolute_error(y_test, model_regressor.predict(X_test))}\")\n",
    "print(f\"MSE: {mean_squared_error(y_test, model_regressor.predict(X_test))}\")"
   ]
  }
 ],
 "metadata": {
  "kernelspec": {
   "display_name": "Python 3",
   "language": "python",
   "name": "python3"
  },
  "language_info": {
   "codemirror_mode": {
    "name": "ipython",
    "version": 3
   },
   "file_extension": ".py",
   "mimetype": "text/x-python",
   "name": "python",
   "nbconvert_exporter": "python",
   "pygments_lexer": "ipython3",
   "version": "3.8.8"
  }
 },
 "nbformat": 4,
 "nbformat_minor": 5
}
