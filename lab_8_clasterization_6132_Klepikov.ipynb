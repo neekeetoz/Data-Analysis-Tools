{
 "cells": [
  {
   "cell_type": "markdown",
   "id": "213f4652",
   "metadata": {},
   "source": [
    "# Лабораторная работа 8\n",
    "\n",
    "## Клепиков Никита\n",
    "\n",
    "Dataset: Students Performance in Exams\n",
    "\n",
    "Ссылка на датасет: https://www.kaggle.com/spscientist/students-performance-in-exams\n",
    "\n",
    "Группа: 6132 - 010402D"
   ]
  },
  {
   "cell_type": "markdown",
   "id": "f5d7654c",
   "metadata": {},
   "source": [
    "Для начала необходимо подключить необходимые для выполнения лабораторной работы библиотеки"
   ]
  },
  {
   "cell_type": "code",
   "execution_count": 1,
   "id": "ac199bf6",
   "metadata": {},
   "outputs": [],
   "source": [
    "import pandas as pd\n",
    "import numpy as np\n",
    "import matplotlib.pyplot as plt\n",
    "\n",
    "from sklearn.model_selection import GridSearchCV\n",
    "from sklearn.preprocessing import MinMaxScaler\n",
    "from sklearn.metrics import homogeneity_score, silhouette_score\n",
    "from sklearn.cluster import KMeans\n",
    "from scipy.cluster.hierarchy import linkage, dendrogram\n",
    "from tqdm.notebook import tqdm\n",
    "from sklearn.metrics import adjusted_rand_score, adjusted_mutual_info_score, homogeneity_score, completeness_score, v_measure_score, silhouette_score"
   ]
  },
  {
   "cell_type": "markdown",
   "id": "de999fc2",
   "metadata": {},
   "source": [
    "0 Найти датасет для кластеризации: для этого берём датасет для мультиклассовой классификации и временно убираем метки классов. Эти метки классов пригодятся нам для оценки качества кластеризации. Хотя в реальной жизни такой роскоши скорее всего не будет, однако наличие априорного знания о кластерах позволит нам посчитать несколько дополнительных метрик. Опишите данные, что обозначает каждый столбец, какого типа (категориальный, вещественный, целочисленный, бинарный) данный столбец, при необходимости для категориальных в том числе бинарных признаков привести расшифровку их значений."
   ]
  },
  {
   "cell_type": "code",
   "execution_count": 2,
   "id": "6df1fee3",
   "metadata": {},
   "outputs": [
    {
     "data": {
      "text/html": [
       "<div>\n",
       "<style scoped>\n",
       "    .dataframe tbody tr th:only-of-type {\n",
       "        vertical-align: middle;\n",
       "    }\n",
       "\n",
       "    .dataframe tbody tr th {\n",
       "        vertical-align: top;\n",
       "    }\n",
       "\n",
       "    .dataframe thead th {\n",
       "        text-align: right;\n",
       "    }\n",
       "</style>\n",
       "<table border=\"1\" class=\"dataframe\">\n",
       "  <thead>\n",
       "    <tr style=\"text-align: right;\">\n",
       "      <th></th>\n",
       "      <th>gender</th>\n",
       "      <th>race/ethnicity</th>\n",
       "      <th>parental level of education</th>\n",
       "      <th>lunch</th>\n",
       "      <th>test preparation course</th>\n",
       "      <th>math score</th>\n",
       "      <th>reading score</th>\n",
       "      <th>writing score</th>\n",
       "    </tr>\n",
       "  </thead>\n",
       "  <tbody>\n",
       "    <tr>\n",
       "      <th>0</th>\n",
       "      <td>female</td>\n",
       "      <td>group B</td>\n",
       "      <td>bachelor's degree</td>\n",
       "      <td>standard</td>\n",
       "      <td>none</td>\n",
       "      <td>72</td>\n",
       "      <td>72</td>\n",
       "      <td>74</td>\n",
       "    </tr>\n",
       "    <tr>\n",
       "      <th>1</th>\n",
       "      <td>female</td>\n",
       "      <td>group C</td>\n",
       "      <td>some college</td>\n",
       "      <td>standard</td>\n",
       "      <td>completed</td>\n",
       "      <td>69</td>\n",
       "      <td>90</td>\n",
       "      <td>88</td>\n",
       "    </tr>\n",
       "    <tr>\n",
       "      <th>2</th>\n",
       "      <td>female</td>\n",
       "      <td>group B</td>\n",
       "      <td>master's degree</td>\n",
       "      <td>standard</td>\n",
       "      <td>none</td>\n",
       "      <td>90</td>\n",
       "      <td>95</td>\n",
       "      <td>93</td>\n",
       "    </tr>\n",
       "    <tr>\n",
       "      <th>3</th>\n",
       "      <td>male</td>\n",
       "      <td>group A</td>\n",
       "      <td>associate's degree</td>\n",
       "      <td>free/reduced</td>\n",
       "      <td>none</td>\n",
       "      <td>47</td>\n",
       "      <td>57</td>\n",
       "      <td>44</td>\n",
       "    </tr>\n",
       "    <tr>\n",
       "      <th>4</th>\n",
       "      <td>male</td>\n",
       "      <td>group C</td>\n",
       "      <td>some college</td>\n",
       "      <td>standard</td>\n",
       "      <td>none</td>\n",
       "      <td>76</td>\n",
       "      <td>78</td>\n",
       "      <td>75</td>\n",
       "    </tr>\n",
       "    <tr>\n",
       "      <th>...</th>\n",
       "      <td>...</td>\n",
       "      <td>...</td>\n",
       "      <td>...</td>\n",
       "      <td>...</td>\n",
       "      <td>...</td>\n",
       "      <td>...</td>\n",
       "      <td>...</td>\n",
       "      <td>...</td>\n",
       "    </tr>\n",
       "    <tr>\n",
       "      <th>995</th>\n",
       "      <td>female</td>\n",
       "      <td>group E</td>\n",
       "      <td>master's degree</td>\n",
       "      <td>standard</td>\n",
       "      <td>completed</td>\n",
       "      <td>88</td>\n",
       "      <td>99</td>\n",
       "      <td>95</td>\n",
       "    </tr>\n",
       "    <tr>\n",
       "      <th>996</th>\n",
       "      <td>male</td>\n",
       "      <td>group C</td>\n",
       "      <td>high school</td>\n",
       "      <td>free/reduced</td>\n",
       "      <td>none</td>\n",
       "      <td>62</td>\n",
       "      <td>55</td>\n",
       "      <td>55</td>\n",
       "    </tr>\n",
       "    <tr>\n",
       "      <th>997</th>\n",
       "      <td>female</td>\n",
       "      <td>group C</td>\n",
       "      <td>high school</td>\n",
       "      <td>free/reduced</td>\n",
       "      <td>completed</td>\n",
       "      <td>59</td>\n",
       "      <td>71</td>\n",
       "      <td>65</td>\n",
       "    </tr>\n",
       "    <tr>\n",
       "      <th>998</th>\n",
       "      <td>female</td>\n",
       "      <td>group D</td>\n",
       "      <td>some college</td>\n",
       "      <td>standard</td>\n",
       "      <td>completed</td>\n",
       "      <td>68</td>\n",
       "      <td>78</td>\n",
       "      <td>77</td>\n",
       "    </tr>\n",
       "    <tr>\n",
       "      <th>999</th>\n",
       "      <td>female</td>\n",
       "      <td>group D</td>\n",
       "      <td>some college</td>\n",
       "      <td>free/reduced</td>\n",
       "      <td>none</td>\n",
       "      <td>77</td>\n",
       "      <td>86</td>\n",
       "      <td>86</td>\n",
       "    </tr>\n",
       "  </tbody>\n",
       "</table>\n",
       "<p>1000 rows × 8 columns</p>\n",
       "</div>"
      ],
      "text/plain": [
       "     gender race/ethnicity parental level of education         lunch  \\\n",
       "0    female        group B           bachelor's degree      standard   \n",
       "1    female        group C                some college      standard   \n",
       "2    female        group B             master's degree      standard   \n",
       "3      male        group A          associate's degree  free/reduced   \n",
       "4      male        group C                some college      standard   \n",
       "..      ...            ...                         ...           ...   \n",
       "995  female        group E             master's degree      standard   \n",
       "996    male        group C                 high school  free/reduced   \n",
       "997  female        group C                 high school  free/reduced   \n",
       "998  female        group D                some college      standard   \n",
       "999  female        group D                some college  free/reduced   \n",
       "\n",
       "    test preparation course  math score  reading score  writing score  \n",
       "0                      none          72             72             74  \n",
       "1                 completed          69             90             88  \n",
       "2                      none          90             95             93  \n",
       "3                      none          47             57             44  \n",
       "4                      none          76             78             75  \n",
       "..                      ...         ...            ...            ...  \n",
       "995               completed          88             99             95  \n",
       "996                    none          62             55             55  \n",
       "997               completed          59             71             65  \n",
       "998               completed          68             78             77  \n",
       "999                    none          77             86             86  \n",
       "\n",
       "[1000 rows x 8 columns]"
      ]
     },
     "execution_count": 2,
     "metadata": {},
     "output_type": "execute_result"
    }
   ],
   "source": [
    "students = pd.read_csv('Students.csv')\n",
    "students"
   ]
  },
  {
   "cell_type": "markdown",
   "id": "1160bb5d",
   "metadata": {},
   "source": [
    "* gender - пол (бинарный)\n",
    "        male - мужской\n",
    "        female - женский\n",
    "* race/ethnicity - раса/этническая принадлежность (категориальный)\n",
    "        group A\n",
    "        group B\n",
    "        group C\n",
    "        group D\n",
    "        group E\n",
    "\n",
    "* parental level of education - уровень образования родителей (категориальный)\n",
    "        bachelor's degree - степень бакалавра\n",
    "        some college - несколько колледжей\n",
    "        master's degree - степень магистра\n",
    "        associate's degree - степень младшего специалиста\n",
    "        high school - средняя школа\n",
    "        some high school - несколько средних школ\n",
    "* lunch - обед (бинарный)\n",
    "        standard - стандартный\n",
    "        free/reduced - бесплатный/льготный\n",
    "* test preparation course - курс подготовки к экзаменам (бинарный)\n",
    "        completed - пройден\n",
    "        none - не пройден\n",
    "* math score - баллы по математике (числовой)\n",
    "\n",
    "* reading score - баллы по чтению (числовой)\n",
    "\n",
    "* writing score - баллы по письменному экзамену (числовой)\n",
    "\n",
    "* sum - сумма баллов (числовой)\n",
    "\n",
    "* status - статус (бинарный)\n",
    "        clever - умный\n",
    "        beautiful - красивый\n",
    "* gpa - средний балл (числовой)"
   ]
  },
  {
   "cell_type": "markdown",
   "id": "a226fab7",
   "metadata": {},
   "source": [
    "1 Выполните иерархическую агломеративную кластеризацию (scipy.cluster.hierarchy), постройте график-дендрограмму (hierarchy.dendrogram)"
   ]
  },
  {
   "cell_type": "code",
   "execution_count": 3,
   "id": "45710a0e",
   "metadata": {},
   "outputs": [
    {
     "name": "stdout",
     "output_type": "stream",
     "text": [
      "<class 'pandas.core.frame.DataFrame'>\n",
      "RangeIndex: 1000 entries, 0 to 999\n",
      "Data columns (total 8 columns):\n",
      " #   Column                       Non-Null Count  Dtype \n",
      "---  ------                       --------------  ----- \n",
      " 0   gender                       1000 non-null   object\n",
      " 1   race/ethnicity               1000 non-null   object\n",
      " 2   parental level of education  1000 non-null   object\n",
      " 3   lunch                        1000 non-null   object\n",
      " 4   test preparation course      1000 non-null   object\n",
      " 5   math score                   1000 non-null   int64 \n",
      " 6   reading score                1000 non-null   int64 \n",
      " 7   writing score                1000 non-null   int64 \n",
      "dtypes: int64(3), object(5)\n",
      "memory usage: 62.6+ KB\n"
     ]
    }
   ],
   "source": [
    "students.info()"
   ]
  },
  {
   "cell_type": "code",
   "execution_count": 4,
   "id": "333d90bf",
   "metadata": {},
   "outputs": [],
   "source": [
    "students[\"gender\"], _ = pd.factorize(students[\"gender\"])\n",
    "students[\"test preparation course\"], _ = pd.factorize(students[\"test preparation course\"])\n",
    "students[\"race/ethnicity\"], _ = pd.factorize(students[\"race/ethnicity\"])\n",
    "students[\"parental level of education\"], _ = pd.factorize(students[\"parental level of education\"])\n",
    "students[\"lunch\"], _ = pd.factorize(students[\"lunch\"])"
   ]
  },
  {
   "cell_type": "code",
   "execution_count": 5,
   "id": "0464e9b1",
   "metadata": {},
   "outputs": [
    {
     "data": {
      "image/png": "[encoded data removed]",
      "text/plain": [
       "<Figure size 1080x720 with 1 Axes>"
      ]
     },
     "metadata": {
      "needs_background": "light"
     },
     "output_type": "display_data"
    }
   ],
   "source": [
    "X, y = students.drop(\"test preparation course\", axis=1), students[\"test preparation course\"]\n",
    "hierarchy = linkage(X, metric=\"euclidean\")\n",
    "plt.figure(figsize=(15, 10))\n",
    "dendrogram(hierarchy, orientation=\"top\", distance_sort=\"descending\", show_leaf_counts=True)\n",
    "plt.show()"
   ]
  },
  {
   "cell_type": "markdown",
   "id": "dda277f9",
   "metadata": {},
   "source": [
    "2 На том же датасете выподните кластеризацию, используя любой другой метод кластеризации (пока с произвольными гиперпараметрами)"
   ]
  },
  {
   "cell_type": "code",
   "execution_count": 6,
   "id": "f73933b5",
   "metadata": {},
   "outputs": [
    {
     "data": {
      "text/plain": [
       "(array([0, 1, 2, 3, 4, 5, 6, 7]),\n",
       " array([ 37, 149, 137, 132,  97, 149, 166, 133], dtype=int64))"
      ]
     },
     "execution_count": 6,
     "metadata": {},
     "output_type": "execute_result"
    }
   ],
   "source": [
    "def get_metrics(X, y, model):\n",
    "    return {\n",
    "        \"ARI\": adjusted_rand_score(y, model.labels_),\n",
    "        \"AMI\": adjusted_mutual_info_score(y, model.labels_),\n",
    "        \"Homogeneity\": homogeneity_score(y, model.labels_),\n",
    "        \"Completeness\": completeness_score(y, model.labels_),\n",
    "        \"V-measure\": v_measure_score(y, model.labels_),\n",
    "        \"Silhouette\": silhouette_score(X, model.labels_)\n",
    "    }\n",
    "\n",
    "KMeansAlgo = KMeans()\n",
    "clusters = KMeansAlgo.fit_predict(X)\n",
    "np.unique(clusters, return_counts=True)"
   ]
  },
  {
   "cell_type": "code",
   "execution_count": 7,
   "id": "9d6ccf26",
   "metadata": {},
   "outputs": [
    {
     "data": {
      "text/plain": [
       "{'ARI': 0.011307920848326526,\n",
       " 'AMI': 0.025784125949194,\n",
       " 'Homogeneity': 0.058111645752658314,\n",
       " 'Completeness': 0.018748914446879466,\n",
       " 'V-measure': 0.028350828350858396,\n",
       " 'Silhouette': 0.2840816795002078}"
      ]
     },
     "execution_count": 7,
     "metadata": {},
     "output_type": "execute_result"
    }
   ],
   "source": [
    "get_metrics(X, y, KMeansAlgo)"
   ]
  },
  {
   "cell_type": "markdown",
   "id": "4b8723cb",
   "metadata": {},
   "source": [
    "3 Выполните оптимизацию гиперпараметров кластеризации (либо иерархической модели из п. 1, либо иной модели из п. 2, на ваш выбор; в случае иерархической кластеризации из п. 1 гиперпараметр — пороговое расстояние между центроидами, являющееся границей разбиения на кластеры). Оптимизацию выполните, используя одну из метрик качества кластеризации, для которых нам понадобится информация об исходных метках класса: Adjusted Rand Index (ARI), Adjusted Mutual Information (AMI), Гомогенность, полнота, V-мера."
   ]
  },
  {
   "cell_type": "code",
   "execution_count": 8,
   "id": "2116f5b2",
   "metadata": {},
   "outputs": [
    {
     "data": {
      "text/plain": [
       "GridSearchCV(cv=5, estimator=KMeans(),\n",
       "             param_grid={'max_iter': range(100, 500, 50),\n",
       "                         'n_clusters': range(2, 10),\n",
       "                         'tol': [0.0001, 0.001, 0.01]},\n",
       "             scoring='v_measure_score')"
      ]
     },
     "execution_count": 8,
     "metadata": {},
     "output_type": "execute_result"
    }
   ],
   "source": [
    "parametrs = {\n",
    "    \"n_clusters\": range(2, 10), \n",
    "    \"max_iter\": range(100, 500, 50), \n",
    "    \"tol\": [0.0001, 0.001, 0.01]\n",
    "}\n",
    "\n",
    "GridKMeansAlgo = GridSearchCV(\n",
    "    KMeans(), \n",
    "    parametrs, \n",
    "    scoring=\"v_measure_score\", \n",
    "    cv=5\n",
    ")\n",
    "\n",
    "GridKMeansAlgo.fit(X, y)"
   ]
  },
  {
   "cell_type": "code",
   "execution_count": 9,
   "id": "932ec222",
   "metadata": {},
   "outputs": [
    {
     "name": "stdout",
     "output_type": "stream",
     "text": [
      "Лучшие параметры для Tuned KMeans: {'max_iter': 300, 'n_clusters': 9, 'tol': 0.01}\n"
     ]
    }
   ],
   "source": [
    "print(f\"Лучшие параметры для Tuned KMeans: {GridKMeansAlgo.best_params_}\")"
   ]
  },
  {
   "cell_type": "code",
   "execution_count": 10,
   "id": "ea710080",
   "metadata": {},
   "outputs": [
    {
     "data": {
      "text/plain": [
       "(array([0, 1, 2, 3, 4, 5, 6, 7, 8]),\n",
       " array([120, 148, 138, 162, 111,  18,  92,  77, 134], dtype=int64))"
      ]
     },
     "execution_count": 10,
     "metadata": {},
     "output_type": "execute_result"
    }
   ],
   "source": [
    "np.unique(GridKMeansAlgo.best_estimator_.labels_, return_counts=True)"
   ]
  },
  {
   "cell_type": "code",
   "execution_count": 11,
   "id": "561ab09f",
   "metadata": {},
   "outputs": [
    {
     "data": {
      "text/plain": [
       "{'ARI': 0.009371195559869495,\n",
       " 'AMI': 0.025663756418274227,\n",
       " 'Homogeneity': 0.06033156157436291,\n",
       " 'Completeness': 0.018668323057020552,\n",
       " 'V-measure': 0.02851368928600448,\n",
       " 'Silhouette': 0.2899962344138475}"
      ]
     },
     "execution_count": 11,
     "metadata": {},
     "output_type": "execute_result"
    }
   ],
   "source": [
    "get_metrics(X, y, GridKMeansAlgo.best_estimator_)"
   ]
  },
  {
   "cell_type": "markdown",
   "id": "309e72bc",
   "metadata": {},
   "source": [
    "4 Используя алгоритм/модель из п. 2 выполните оптимизацию гиперпараметра количества кластеров, используя \"правило локтя\" (анализируем график силуэта)"
   ]
  },
  {
   "cell_type": "code",
   "execution_count": 12,
   "id": "538c1c6a",
   "metadata": {},
   "outputs": [
    {
     "data": {
      "application/vnd.jupyter.widget-view+json": {
       "model_id": "5f2db6ee810d4073865e83fbfcce6e7a",
       "version_major": 2,
       "version_minor": 0
      },
      "text/plain": [
       "  0%|          | 0/48 [00:00<?, ?it/s]"
      ]
     },
     "metadata": {},
     "output_type": "display_data"
    }
   ],
   "source": [
    "scores = list()\n",
    "\n",
    "for cluster in tqdm(range(2, 50)):\n",
    "    clusters = KMeans(n_clusters=cluster, max_iter=150, tol=0.0001).fit_predict(X)\n",
    "    scores.append(silhouette_score(X, clusters))"
   ]
  },
  {
   "cell_type": "code",
   "execution_count": 13,
   "id": "bb99b3c6",
   "metadata": {},
   "outputs": [
    {
     "data": {
      "image/png": "[encoded data removed]",
      "text/plain": [
       "<Figure size 432x288 with 1 Axes>"
      ]
     },
     "metadata": {
      "needs_background": "light"
     },
     "output_type": "display_data"
    }
   ],
   "source": [
    "plt.plot(range(2, 50), scores)\n",
    "plt.xlabel(\"n_clusters\")\n",
    "plt.ylabel(\"silhouette_score\")\n",
    "plt.grid(True)\n",
    "plt.show()"
   ]
  }
 ],
 "metadata": {
  "kernelspec": {
   "display_name": "Python 3",
   "language": "python",
   "name": "python3"
  },
  "language_info": {
   "codemirror_mode": {
    "name": "ipython",
    "version": 3
   },
   "file_extension": ".py",
   "mimetype": "text/x-python",
   "name": "python",
   "nbconvert_exporter": "python",
   "pygments_lexer": "ipython3",
   "version": "3.8.8"
  }
 },
 "nbformat": 4,
 "nbformat_minor": 5
}
